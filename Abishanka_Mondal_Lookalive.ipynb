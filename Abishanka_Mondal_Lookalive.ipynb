{
  "nbformat": 4,
  "nbformat_minor": 0,
  "metadata": {
    "colab": {
      "provenance": []
    },
    "kernelspec": {
      "name": "python3",
      "display_name": "Python 3"
    },
    "language_info": {
      "name": "python"
    }
  },
  "cells": [
    {
      "cell_type": "code",
      "execution_count": null,
      "metadata": {
        "id": "16R3D0eJhnX1"
      },
      "outputs": [],
      "source": [
        "import pandas as pd\n",
        "from sklearn.metrics.pairwise import cosine_similarity\n",
        "from sklearn.preprocessing import StandardScaler\n",
        "customers = pd.read_csv('/content/Customers.csv')\n",
        "products = pd.read_csv('/content/Products.csv')\n",
        "transactions = pd.read_csv('/content/Transactions.csv')\n",
        "\n",
        "merged_data = transactions.merge(customers, on='CustomerID').merge(products, on='ProductID')\n",
        "\n",
        "customer_features = merged_data.groupby('CustomerID').agg({\n",
        "    'TransactionID': 'count',\n",
        "    'TotalValue': 'mean',\n",
        "    'ProductID': lambda x: len(set(x))\n",
        "}).reset_index()\n",
        "\n",
        "customer_features.columns = ['CustomerID', 'TotalTransactions', 'AvgTransactionValue', 'UniqueProducts']\n",
        "scaler = StandardScaler()\n",
        "features_scaled = scaler.fit_transform(customer_features[['TotalTransactions', 'AvgTransactionValue', 'UniqueProducts']])\n",
        "\n",
        "similarity_matrix = cosine_similarity(features_scaled)\n",
        "similarity_df = pd.DataFrame(similarity_matrix, index=customer_features['CustomerID'], columns=customer_features['CustomerID'])\n",
        "lookalike_results = {}\n",
        "for customer in customer_features['CustomerID'][:20]:\n",
        "    similar_customers = similarity_df[customer].nlargest(4).iloc[1:]\n",
        "    lookalike_results[customer] = [(similar_customer, score) for similar_customer, score in zip(similar_customers.index, similar_customers.values)]\n",
        "\n",
        "lookalike_data = []\n",
        "for cust_id, lookalikes in lookalike_results.items():\n",
        "    for lookalike, score in lookalikes:\n",
        "        lookalike_data.append({'CustomerID': cust_id, 'LookalikeID': lookalike, 'SimilarityScore': score})\n",
        "\n",
        "lookalike_df = pd.DataFrame(lookalike_data)\n",
        "\n",
        "lookalike_df.to_csv('Lookalike.csv', index=False)"
      ]
    }
  ]
}